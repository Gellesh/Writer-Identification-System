{
 "cells": [
  {
   "cell_type": "code",
   "execution_count": 4,
   "metadata": {},
   "outputs": [],
   "source": [
    "import os\n",
    "import shutil"
   ]
  },
  {
   "cell_type": "code",
   "execution_count": 14,
   "metadata": {},
   "outputs": [],
   "source": [
    "metaDataForm = \"forms.txt\" \n",
    "file = open(metaDataForm, \"r\")\n",
    "writer_dic = dict()"
   ]
  },
  {
   "cell_type": "code",
   "execution_count": 3,
   "metadata": {},
   "outputs": [],
   "source": [
    "for line in file:\n",
    "    if line.startswith(\"#\"):\n",
    "        continue\n",
    "    try:\n",
    "        x = line.split(\" \")[:2]\n",
    "        writer_dic[x[0]] = x[1]\n",
    "        \n",
    "    except:\n",
    "        pass"
   ]
  },
  {
   "cell_type": "code",
   "execution_count": 8,
   "metadata": {},
   "outputs": [],
   "source": [
    "training_dir = 'formsE-H'   # dataset folder\n",
    "writer_dir = 'Writers'      # The writers folder \n",
    "entries = os.listdir(training_dir)\n",
    "os.mkdir(writer_dir)"
   ]
  },
  {
   "cell_type": "code",
   "execution_count": 9,
   "metadata": {},
   "outputs": [],
   "source": [
    "for entry in entries:\n",
    "    image_name = entry.split(\".\")[:1]\n",
    "    writer_id = writer_dic[image_name[0]]\n",
    "    \n",
    "    try:\n",
    "        os.mkdir(os.path.join(writer_dir,writer_id))\n",
    "    except FileExistsError as exc:\n",
    "        pass\n",
    "    src = os.path.join(training_dir, entry)\n",
    "    dst = os.path.join(writer_dir, writer_id, entry)\n",
    "    shutil.copy(src, dst)\n",
    "    "
   ]
  },
  {
   "cell_type": "code",
   "execution_count": 20,
   "metadata": {
    "scrolled": false
   },
   "outputs": [
    {
     "name": "stdout",
     "output_type": "stream",
     "text": [
      "65\n"
     ]
    }
   ],
   "source": [
    "# Walking a directory tree and printing the names of the directories and files\n",
    "writers_with_lessThan_three_photos = 0\n",
    "for dirpath, dirnames, files in os.walk(os.path.join(\"Writers\")):\n",
    "#     print(f'Found directory: {dirpath}')\n",
    "    count = 0\n",
    "    for file_name in files:\n",
    "        count += 1\n",
    "    if count > 2:\n",
    "        writers_with_lessThan_three_photos += 1 \n",
    "#     print(\"Writer {} has {} Imgs \\n\".format(dirpath,count))\n",
    "\n",
    "print(writers_with_lessThan_three_photos)"
   ]
  },
  {
   "cell_type": "code",
   "execution_count": null,
   "metadata": {},
   "outputs": [],
   "source": []
  }
 ],
 "metadata": {
  "kernelspec": {
   "display_name": "Python 3",
   "language": "python",
   "name": "python3"
  },
  "language_info": {
   "codemirror_mode": {
    "name": "ipython",
    "version": 3
   },
   "file_extension": ".py",
   "mimetype": "text/x-python",
   "name": "python",
   "nbconvert_exporter": "python",
   "pygments_lexer": "ipython3",
   "version": "3.7.9"
  }
 },
 "nbformat": 4,
 "nbformat_minor": 2
}
