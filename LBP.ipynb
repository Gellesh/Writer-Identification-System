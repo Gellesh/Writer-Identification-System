{
 "cells": [
  {
   "cell_type": "code",
   "execution_count": 102,
   "metadata": {},
   "outputs": [],
   "source": [
    "import cv2 as cv\n",
    "import numpy as np\n",
    "import matplotlib.pyplot as plt\n",
    "import commonfunctions\n",
    "from skimage import io, color\n",
    "from skimage.feature import local_binary_pattern\n",
    "from sklearn.preprocessing import minmax_scale\n",
    "from commonfunctions import show_images, showHist\n",
    "from sklearn import svm\n",
    "from sklearn import metrics"
   ]
  },
  {
   "cell_type": "code",
   "execution_count": 111,
   "metadata": {},
   "outputs": [],
   "source": [
    "def get_paragraph(gray_img, bin_img):\n",
    "\n",
    "    height, width = gray_img.shape\n",
    "\n",
    "    contours, hierarchy = cv.findContours(bin_img, cv.RETR_LIST, cv.CHAIN_APPROX_SIMPLE)\n",
    "\n",
    "    threshold_width = 1500\n",
    "\n",
    "\n",
    "    up, down, left, right = 0, height - 1, 0, width - 1\n",
    "\n",
    "    for cnt in contours:\n",
    "        x, y, w, h = cv.boundingRect(cnt)\n",
    "\n",
    "        if w < threshold_width:\n",
    "            continue\n",
    "\n",
    "        if y < height / 2:\n",
    "            if y > up:\n",
    "                up = y\n",
    "        else:\n",
    "            down = y\n",
    "\n",
    "    th = 0\n",
    "    bin_img = bin_img[up:down + 1, left:right + 1]\n",
    "    gray_img = gray_img[up:down + 1, left:right + 1]\n",
    "    # Apply erosion to remove noise and dots.\n",
    "    kernel = np.ones((3, 3), np.uint8)\n",
    "    bin_img = cv.erode(bin_img, kernel, iterations=3)\n",
    "    pts = np.nonzero(bin_img)\n",
    "    x_min, y_min, x_max, y_max = min(pts[0]), min(pts[1]), max(pts[0]), max(pts[1])\n",
    "    bin_img = bin_img[x_min-th:x_max+th, y_min-th:y_max+th]\n",
    "    gray_img = gray_img[x_min-th:x_max+th, y_min-th:y_max+th]\n",
    "    # Return the handwritten paragraph\n",
    "    return gray_img, bin_img\n",
    "\n",
    "def preprocessing(gray_img):\n",
    "    gray_img = cv.GaussianBlur(gray_img, (5, 5), 0)\n",
    "    ## (2) threshold\n",
    "    thresh, bin_img = cv.threshold(gray_img, 0, 255, cv.THRESH_BINARY_INV|cv.THRESH_OTSU)\n",
    "    gray_img, bin_img = get_paragraph(gray_img, bin_img)\n",
    "    thresh, bin_img = cv.threshold(gray_img, 0, 255, cv.THRESH_BINARY_INV|cv.THRESH_OTSU)\n",
    "#     plt.imshow(bin_img)\n",
    "    hist = cv.reduce(bin_img,1, cv.REDUCE_AVG).reshape(-1)\n",
    "#     for i in range(len(hist)):\n",
    "#         print(i, hist[i])\n",
    "    th = 2\n",
    "    H,W = bin_img.shape[:2]\n",
    "    uppers = []\n",
    "    lowers = []\n",
    "    if hist[0] > th:\n",
    "        uppers.append(0)\n",
    "    \n",
    "     \n",
    "    for y in range(H-1):\n",
    "        if hist[y]<=th and hist[y+1]>th:\n",
    "            uppers.append(y)\n",
    "     \n",
    "    for y in range(H-1):\n",
    "        if hist[y]>th and hist[y+1]<=th:\n",
    "            lowers.append(y)\n",
    "            \n",
    "    if hist[len(hist)-1] > th:\n",
    "        lowers.append(len(hist)-1)\n",
    "\n",
    "    img = cv.cvtColor(gray_img, cv.COLOR_GRAY2BGR)\n",
    "    \n",
    "    lines = []\n",
    "    temp_uppers = uppers.copy()\n",
    "    temp_lowers = lowers.copy()\n",
    "    for i in range(len(uppers)):\n",
    "        if lowers[i] - uppers[i] > 50:\n",
    "            lines.append(img[uppers[i]:lowers[i], :])\n",
    "        else:\n",
    "            temp_uppers.remove(uppers[i])\n",
    "            temp_lowers.remove(lowers[i])\n",
    "    print(temp_uppers)\n",
    "    print(temp_lowers)\n",
    "    count = 1\n",
    "    for l in lines:\n",
    "        #cv.imwrite(\"line\" + str(count) + \".png\", l)\n",
    "        count+=1\n",
    "    \n",
    "    return lines"
   ]
  },
  {
   "cell_type": "code",
   "execution_count": 112,
   "metadata": {},
   "outputs": [],
   "source": [
    "def LBP_feature_extraction(lines, features, labels, label):\n",
    "    R = 3\n",
    "    P = 8\n",
    "    featureVectors = []\n",
    "    for i in range(len(lines)):\n",
    "        #rgb to grat scale\n",
    "        grayImage = cv.cvtColor(lines[i], cv.COLOR_BGR2GRAY)\n",
    "        #calc PBL\n",
    "        LBPImage = local_binary_pattern(grayImage, P, R)\n",
    "        #change format for histogram function\n",
    "        LBPImage = np.uint8(LBPImage)     \n",
    "        #calculate the histogram\n",
    "        LBPHist = cv.calcHist([LBPImage],[0],None,[256],[0,256])\n",
    "        #normalize the histogram 0-1\n",
    "        normalizedHist = minmax_scale(LBPHist)\n",
    "        #normalizedHist = LBPHist/np.mean(LBPHist)\n",
    "        #print(normalizedHist[:,0])\n",
    "        featureVectors.append(normalizedHist)\n",
    "        features.append(normalizedHist[:,0])\n",
    "        labels.append(label)\n",
    "        #plot histogram\n",
    "        #plt.hist(normalizedHist, bins=256)\n",
    "        #plt.show()\n",
    "    return featureVectors"
   ]
  },
  {
   "cell_type": "code",
   "execution_count": 113,
   "metadata": {},
   "outputs": [],
   "source": [
    "def get_features(picsPath,features,labels,ids):\n",
    "    for i in range(len(picsPath)):\n",
    "        img = cv.imread(picsPath[i])\n",
    "        gray_img = cv.cvtColor(img, cv.COLOR_BGR2GRAY)\n",
    "        lines = preprocessing(gray_img)\n",
    "        LBP_feature_extraction(lines, features, labels, ids[i])"
   ]
  },
  {
   "cell_type": "code",
   "execution_count": 114,
   "metadata": {},
   "outputs": [],
   "source": [
    "def train_using_svm(features,labels):\n",
    "    clf = svm.SVC(kernel='linear') # Linear Kernel\n",
    "    clf.fit(features, labels)\n",
    "    return clf"
   ]
  },
  {
   "cell_type": "code",
   "execution_count": 115,
   "metadata": {},
   "outputs": [],
   "source": [
    "def testing(clf,traingPicsPath):\n",
    "    ids = []\n",
    "    for i in range(len(traingPicsPath)):\n",
    "       ids.append(i+1) \n",
    "    trainF = []\n",
    "    trainLabels = []\n",
    "    get_features(traingPicsPath,trainF,trainLabels,ids)\n",
    "    trainF = np.array(trainF)\n",
    "    trainLabels = np.array(trainLabels)\n",
    "    y_pred = clf.predict(trainF)\n",
    "    print(\"Accuracy:\",metrics.accuracy_score(trainLabels, y_pred))"
   ]
  },
  {
   "cell_type": "code",
   "execution_count": 110,
   "metadata": {},
   "outputs": [
    {
     "name": "stdout",
     "output_type": "stream",
     "text": [
      "[0, 239, 420, 424, 610, 777, 965, 1138, 1320, 1496, 1679]\n",
      "[8, 325, 422, 512, 695, 905, 1081, 1267, 1449, 1586, 1753]\n"
     ]
    },
    {
     "name": "stderr",
     "output_type": "stream",
     "text": [
      "<ipython-input-98-566e62e50581>:9: DeprecationWarning: elementwise comparison failed; this will raise an error in the future.\n",
      "  lines.remove(line)\n"
     ]
    },
    {
     "name": "stdout",
     "output_type": "stream",
     "text": [
      "[0, 169, 351, 518, 700, 878, 1055, 1236, 1417, 1595, 1778]\n",
      "[8, 281, 441, 621, 793, 976, 1168, 1343, 1508, 1689, 1819]\n",
      "[0, 221, 404, 584, 760, 939, 1123, 1295, 1471, 1653]\n",
      "[4, 325, 502, 678, 865, 1041, 1224, 1400, 1585, 1736]\n",
      "[0, 164, 346, 521, 699, 886, 1061, 1234, 1414, 1592]\n",
      "[4, 261, 427, 634, 811, 975, 1166, 1344, 1521, 1704]\n",
      "[0, 102, 480, 664, 1003, 1202]\n",
      "[5, 466, 650, 991, 1170, 1661]\n",
      "[0, 137, 337, 877, 1237, 1417]\n",
      "[4, 297, 857, 1209, 1361, 1534]\n",
      "[0, 239, 420, 424, 610, 777, 965, 1138, 1320, 1496, 1679]\n",
      "[8, 325, 422, 512, 695, 905, 1081, 1267, 1449, 1586, 1753]\n"
     ]
    },
    {
     "name": "stderr",
     "output_type": "stream",
     "text": [
      "<ipython-input-98-566e62e50581>:9: DeprecationWarning: elementwise comparison failed; this will raise an error in the future.\n",
      "  lines.remove(line)\n"
     ]
    },
    {
     "name": "stdout",
     "output_type": "stream",
     "text": [
      "Accuracy: 1.0\n"
     ]
    }
   ],
   "source": [
    "features = []\n",
    "labels = []\n",
    "picsPath = ['Writerss/009/a01-020.png','Writerss/009/a01-026.png','Writerss/010/a01-020x.png',\n",
    "            'Writerss/010/a01-030x.png','Writerss/011/a01-038x.png','Writerss/011/a01-043x.png']\n",
    "ids = [1,1,2,2,3,3]\n",
    "get_features(picsPath,features,labels,ids)\n",
    "#print(type(features))\n",
    "#print(labels.shape)\n",
    "features = np.array(features)\n",
    "labels = np.array(labels)\n",
    "#print(features.shape)\n",
    "clf = train_using_svm(features,labels)\n",
    "traingPicsPath = ['Writerss/009/a01-020.png']\n",
    "testing(clf,traingPicsPath)\n"
   ]
  },
  {
   "cell_type": "code",
   "execution_count": null,
   "metadata": {},
   "outputs": [],
   "source": [
    "img = cv.imread('Writerss/010/a01-020x.png')\n",
    "gray_img = cv.cvtColor(img, cv.COLOR_BGR2GRAY)\n",
    "show_images([gray_img])\n",
    "lines = preprocessing(gray_img)\n",
    "print(\"number of lines before\",len(lines))\n",
    "for line in lines:\n",
    "    if line.shape[0] < 10:\n",
    "        lines.remove(line)\n",
    "print(\"number of lines after\",len(lines))\n",
    "show_images(lines)\n",
    "#LBP_feature_extraction([lines[1]])\n",
    "features = LBP_feature_extraction(lines)\n",
    "len(features)"
   ]
  }
 ],
 "metadata": {
  "kernelspec": {
   "display_name": "Python 3",
   "language": "python",
   "name": "python3"
  },
  "language_info": {
   "codemirror_mode": {
    "name": "ipython",
    "version": 3
   },
   "file_extension": ".py",
   "mimetype": "text/x-python",
   "name": "python",
   "nbconvert_exporter": "python",
   "pygments_lexer": "ipython3",
   "version": "3.8.3"
  }
 },
 "nbformat": 4,
 "nbformat_minor": 4
}
